{
 "cells": [
  {
   "cell_type": "code",
   "execution_count": 5,
   "metadata": {},
   "outputs": [],
   "source": [
    "import pyaudio \n",
    "import numpy as np\n",
    "import wave\n",
    "import matplotlib.pyplot as plt\n",
    "import sys \n",
    "import os \n",
    "import struct\n",
    "import scipy.io.wavfile as sp"
   ]
  },
  {
   "cell_type": "code",
   "execution_count": 23,
   "metadata": {},
   "outputs": [
    {
     "name": "stdout",
     "output_type": "stream",
     "text": [
      "Recording started. Start talking :)\n",
      "Recording completed.\n",
      "length = 4.992290249433107\n"
     ]
    },
    {
     "name": "stderr",
     "output_type": "stream",
     "text": [
      "D:\\downloads\\anaconda\\lib\\site-packages\\IPython\\core\\pylabtools.py:128: UserWarning: Creating legend with loc=\"best\" can be slow with large amounts of data.\n",
      "  fig.canvas.print_figure(bytes_io, **kw)\n"
     ]
    },
    {
     "data": {
      "image/png": "[encoded data removed]",
      "text/plain": [
       "<Figure size 432x288 with 1 Axes>"
      ]
     },
     "metadata": {
      "needs_background": "light"
     },
     "output_type": "display_data"
    }
   ],
   "source": [
    "def record(outputFile):\n",
    "    \n",
    "    CHUNK = 1024\n",
    "    #32 bytes per sample\n",
    "    FORMAT= pyaudio.paInt16\n",
    "    CHANNEL = 1\n",
    "    #44100 cycles per second\n",
    "    RATE = 44100\n",
    "    RECORD_SECONDS = 5\n",
    "    \n",
    "    #instantiate\n",
    "    p = pyaudio.PyAudio()\n",
    "    #open Stream, with input\n",
    "    stream = p.open(format=FORMAT,\n",
    "                    channels = CHANNEL,\n",
    "                    rate=RATE,\n",
    "                    input=True,\n",
    "                    frames_per_buffer=CHUNK    \n",
    "    )\n",
    "    \n",
    "    print(\"Recording started. Start talking :)\")\n",
    "    #we need to define a frame\n",
    "    frames = []\n",
    "    #44100/1024*5\n",
    "    for i in range(0, int(RATE/CHUNK*RECORD_SECONDS)):\n",
    "        frames.append(stream.read(CHUNK))\n",
    "    \n",
    "    # Stop and close the stream \n",
    "    stream.stop_stream()\n",
    "    stream.close()\n",
    "    # Terminate the PortAudio interface\n",
    "    p.terminate()\n",
    "    print('Recording completed.')\n",
    "\n",
    "    #now once we have done the recording we use the wav module\n",
    "    #open the file in binary mode\n",
    "    wf = wave.open(outputFile, 'wb')\n",
    "    #need to set like before - channels,sampwidth,framerate.\n",
    "    wf.setnchannels(CHANNEL)\n",
    "    wf.setsampwidth(p.get_sample_size(FORMAT))\n",
    "    wf.setframerate(RATE)\n",
    "    #this is how to join the frame together.\n",
    "    wf.writeframes(b''.join(frames))\n",
    "    wf.close()\n",
    "    \n",
    "#1st part\n",
    "#store recording with title output record.wav \n",
    "if os.path.isfile(\"C:/Users/OEM/record1.wav\"):\n",
    "    os.remove(\"C:/Users/OEM/record1.wav\")\n",
    "\n",
    "r = record('record1.wav')\n",
    "\n",
    "#converting wav wfile to interpretable int\n",
    "samplerate, data = sp.read(\"C:/Users/OEM/record1.wav\")\n",
    "length = data.shape[0]/samplerate\n",
    "print(f\"length = {length}\")\n",
    "time = np.linspace(0., length, data.shape[0])\n",
    "plt.plot(time, data, label='left channel', color = 'red')\n",
    "#plt.plot(time, data[:,1], label='right channel')\n",
    "plt.legend()\n",
    "plt.xlabel('time in seconds')\n",
    "plt.ylabel('amplitude')\n",
    "plt.show()"
   ]
  },
  {
   "cell_type": "code",
   "execution_count": null,
   "metadata": {},
   "outputs": [],
   "source": []
  }
 ],
 "metadata": {
  "kernelspec": {
   "display_name": "Python 3",
   "language": "python",
   "name": "python3"
  },
  "language_info": {
   "codemirror_mode": {
    "name": "ipython",
    "version": 3
   },
   "file_extension": ".py",
   "mimetype": "text/x-python",
   "name": "python",
   "nbconvert_exporter": "python",
   "pygments_lexer": "ipython3",
   "version": "3.7.4"
  }
 },
 "nbformat": 4,
 "nbformat_minor": 2
}
